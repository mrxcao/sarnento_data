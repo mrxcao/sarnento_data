{
 "cells": [
  {
   "cell_type": "code",
   "execution_count": null,
   "metadata": {},
   "outputs": [],
   "source": [
    "# dependences\n",
    "# ! pip install python-decouple\n",
    "# ! pip install --user pandas\n",
    "# ! pip install pymongo"
   ]
  },
  {
   "cell_type": "markdown",
   "metadata": {},
   "source": [
    "# Sarnento Data"
   ]
  },
  {
   "cell_type": "code",
   "execution_count": 11,
   "metadata": {},
   "outputs": [],
   "source": [
    "import pandas as pd\n",
    "from decouple import config\n",
    "from pymongo import MongoClient\n",
    "\n",
    "dbString = config('DATABASE_STRING', default='ERROR')\n",
    "debug = config('DEBUG', default='1') \n",
    "if dbString == 'ERRO':\n",
    "    print('erro ao carregar banco')\n",
    "\n",
    "client = MongoClient(dbString)\n",
    "db = client.sarnento2\n",
    "\n",
    "# guild\n",
    "collection = db.guilds\n",
    "cursor = collection.find({})\n",
    "data = list(cursor)\n",
    "df = pd.DataFrame(data)\n",
    "\n",
    "# users\n",
    "collection = db.users\n",
    "cursor = collection.find({})\n",
    "data = list(cursor)\n",
    "df2 = pd.DataFrame(data)\n",
    "\n",
    "# df.head()"
   ]
  },
  {
   "cell_type": "markdown",
   "metadata": {},
   "source": [
    "## dados báiscos"
   ]
  },
  {
   "cell_type": "code",
   "execution_count": 13,
   "metadata": {},
   "outputs": [
    {
     "data": {
      "text/html": [
       "<div>\n",
       "<style scoped>\n",
       "    .dataframe tbody tr th:only-of-type {\n",
       "        vertical-align: middle;\n",
       "    }\n",
       "\n",
       "    .dataframe tbody tr th {\n",
       "        vertical-align: top;\n",
       "    }\n",
       "\n",
       "    .dataframe thead th {\n",
       "        text-align: right;\n",
       "    }\n",
       "</style>\n",
       "<table border=\"1\" class=\"dataframe\">\n",
       "  <thead>\n",
       "    <tr style=\"text-align: right;\">\n",
       "      <th></th>\n",
       "      <th>servidores</th>\n",
       "      <th>Users</th>\n",
       "    </tr>\n",
       "  </thead>\n",
       "  <tbody>\n",
       "    <tr>\n",
       "      <th>0</th>\n",
       "      <td>26</td>\n",
       "      <td>2276</td>\n",
       "    </tr>\n",
       "  </tbody>\n",
       "</table>\n",
       "</div>"
      ],
      "text/plain": [
       "   servidores  Users\n",
       "0          26   2276"
      ]
     },
     "execution_count": 13,
     "metadata": {},
     "output_type": "execute_result"
    }
   ],
   "source": [
    "quantidade_registros = len(df)\n",
    "df_resumo = pd.DataFrame({'servidores':[quantidade_registros],\n",
    "                       #   'Colunas':[df.shape[1]], \n",
    "                          'Users':[df2.shape[0]], \n",
    "                            })\n",
    "df_resumo"
   ]
  }
 ],
 "metadata": {
  "kernelspec": {
   "display_name": "Python 3",
   "language": "python",
   "name": "python3"
  },
  "language_info": {
   "codemirror_mode": {
    "name": "ipython",
    "version": 3
   },
   "file_extension": ".py",
   "mimetype": "text/x-python",
   "name": "python",
   "nbconvert_exporter": "python",
   "pygments_lexer": "ipython3",
   "version": "3.11.0"
  }
 },
 "nbformat": 4,
 "nbformat_minor": 2
}
